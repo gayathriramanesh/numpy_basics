{
  "nbformat": 4,
  "nbformat_minor": 0,
  "metadata": {
    "colab": {
      "name": "numpy.ipynb",
      "provenance": [],
      "collapsed_sections": [],
      "authorship_tag": "ABX9TyPEkrNTrzbKsjR6gqWoGawd",
      "include_colab_link": true
    },
    "kernelspec": {
      "name": "python3",
      "display_name": "Python 3"
    },
    "language_info": {
      "name": "python"
    }
  },
  "cells": [
    {
      "cell_type": "markdown",
      "metadata": {
        "id": "view-in-github",
        "colab_type": "text"
      },
      "source": [
        "<a href=\"https://colab.research.google.com/github/gayathriramanesh/numpy_basics/blob/main/numpy.ipynb\" target=\"_parent\"><img src=\"https://colab.research.google.com/assets/colab-badge.svg\" alt=\"Open In Colab\"/></a>"
      ]
    },
    {
      "cell_type": "code",
      "execution_count": 2,
      "metadata": {
        "id": "OnWb505Fm9ts"
      },
      "outputs": [],
      "source": [
        "import numpy as np\n"
      ]
    },
    {
      "cell_type": "markdown",
      "source": [
        "prints the dimension of the array\n"
      ],
      "metadata": {
        "id": "s0mh4ToPpUE-"
      }
    },
    {
      "cell_type": "code",
      "source": [
        "a=np.array([(1,2,3),(4,5,6)])\n",
        "print(a.ndim)"
      ],
      "metadata": {
        "colab": {
          "base_uri": "https://localhost:8080/"
        },
        "id": "6HsfYhwjnBaB",
        "outputId": "c2041bdd-cae4-4aa9-b52f-8e5ce8a012d0"
      },
      "execution_count": 3,
      "outputs": [
        {
          "output_type": "stream",
          "name": "stdout",
          "text": [
            "2\n"
          ]
        }
      ]
    },
    {
      "cell_type": "markdown",
      "source": [
        "gives the byte size of an element"
      ],
      "metadata": {
        "id": "cOG-oF5mpliv"
      }
    },
    {
      "cell_type": "code",
      "source": [
        "print(a.itemsize)"
      ],
      "metadata": {
        "colab": {
          "base_uri": "https://localhost:8080/"
        },
        "id": "N7T_TZ1MpLtR",
        "outputId": "71ac02d5-0b60-49e3-b774-ae0b0381c3cf"
      },
      "execution_count": 4,
      "outputs": [
        {
          "output_type": "stream",
          "name": "stdout",
          "text": [
            "8\n"
          ]
        }
      ]
    },
    {
      "cell_type": "markdown",
      "source": [
        "prints the data type of the array"
      ],
      "metadata": {
        "id": "GL01Un8vpo_r"
      }
    },
    {
      "cell_type": "code",
      "source": [
        "print(a.dtype)"
      ],
      "metadata": {
        "colab": {
          "base_uri": "https://localhost:8080/"
        },
        "id": "_LfsiTVPppX2",
        "outputId": "a5800653-8ceb-4013-a6bc-e70d9de722d2"
      },
      "execution_count": 5,
      "outputs": [
        {
          "output_type": "stream",
          "name": "stdout",
          "text": [
            "int64\n"
          ]
        }
      ]
    },
    {
      "cell_type": "markdown",
      "source": [
        "size of the array"
      ],
      "metadata": {
        "id": "F_bsKux3pyLo"
      }
    },
    {
      "cell_type": "code",
      "source": [
        "print(a.size)"
      ],
      "metadata": {
        "colab": {
          "base_uri": "https://localhost:8080/"
        },
        "id": "5KTHkNV3pyio",
        "outputId": "e79e1bcd-207d-482f-b9e5-100c5b99172e"
      },
      "execution_count": 6,
      "outputs": [
        {
          "output_type": "stream",
          "name": "stdout",
          "text": [
            "6\n"
          ]
        }
      ]
    },
    {
      "cell_type": "markdown",
      "source": [
        "prints the no of rows and columns"
      ],
      "metadata": {
        "id": "H_QULTBXqGua"
      }
    },
    {
      "cell_type": "code",
      "source": [
        "print(a.shape)"
      ],
      "metadata": {
        "colab": {
          "base_uri": "https://localhost:8080/"
        },
        "id": "PsIhXtDgqxUp",
        "outputId": "c10a6359-05be-43f6-fd2c-4fab332ad5bf"
      },
      "execution_count": 7,
      "outputs": [
        {
          "output_type": "stream",
          "name": "stdout",
          "text": [
            "(2, 3)\n"
          ]
        }
      ]
    },
    {
      "cell_type": "markdown",
      "source": [
        "changes the no of rows and columns"
      ],
      "metadata": {
        "id": "cxfnaM_7rMXA"
      }
    },
    {
      "cell_type": "code",
      "source": [
        "a=a.reshape(3,2)\n",
        "print(a)"
      ],
      "metadata": {
        "colab": {
          "base_uri": "https://localhost:8080/"
        },
        "id": "R_T6hdzBrMf6",
        "outputId": "f06f0d4e-60ab-44e6-a25f-3b7328bed098"
      },
      "execution_count": 8,
      "outputs": [
        {
          "output_type": "stream",
          "name": "stdout",
          "text": [
            "[[1 2]\n",
            " [3 4]\n",
            " [5 6]]\n"
          ]
        }
      ]
    },
    {
      "cell_type": "markdown",
      "source": [
        "prints the sliced value from index 0 and index 2"
      ],
      "metadata": {
        "id": "VNXicemytq7a"
      }
    },
    {
      "cell_type": "code",
      "source": [
        "a=np.array([(1,2,3),(4,5,6)])\n",
        "print(a[0:,2])\n",
        "print(a[0:1,1])"
      ],
      "metadata": {
        "colab": {
          "base_uri": "https://localhost:8080/"
        },
        "id": "_fHS3uiPtgyx",
        "outputId": "0c3b1f70-45bf-45ef-fd3b-6bf7ca11ead5"
      },
      "execution_count": 9,
      "outputs": [
        {
          "output_type": "stream",
          "name": "stdout",
          "text": [
            "[3 6]\n",
            "[2]\n"
          ]
        }
      ]
    },
    {
      "cell_type": "markdown",
      "source": [
        "linespacing-gives the no of values betwwen two nos"
      ],
      "metadata": {
        "id": "K-bMxCm-uBbL"
      }
    },
    {
      "cell_type": "code",
      "source": [
        "a=np.linspace(1,10,5)\n",
        "print(a)"
      ],
      "metadata": {
        "colab": {
          "base_uri": "https://localhost:8080/"
        },
        "id": "44iTohJZuGAh",
        "outputId": "4089e2a5-d9a6-4b75-ae6f-2f1f02ead2c1"
      },
      "execution_count": 10,
      "outputs": [
        {
          "output_type": "stream",
          "name": "stdout",
          "text": [
            "[ 1.    3.25  5.5   7.75 10.  ]\n"
          ]
        }
      ]
    },
    {
      "cell_type": "markdown",
      "source": [
        "sum,max n min of an array"
      ],
      "metadata": {
        "id": "JIzbjT0CudYA"
      }
    },
    {
      "cell_type": "code",
      "source": [
        "a=np.array([(1,2,3),(4,5,6)])\n",
        "print(a.max())\n",
        "print(a.min())\n",
        "print(a.sum())"
      ],
      "metadata": {
        "colab": {
          "base_uri": "https://localhost:8080/"
        },
        "id": "I7MQA6zpudgg",
        "outputId": "1081dcea-a6f6-4434-98c1-bbfd5c9555e6"
      },
      "execution_count": 11,
      "outputs": [
        {
          "output_type": "stream",
          "name": "stdout",
          "text": [
            "6\n",
            "1\n",
            "21\n"
          ]
        }
      ]
    },
    {
      "cell_type": "markdown",
      "source": [
        "axis-0 is column\n",
        "axis-1 is row"
      ],
      "metadata": {
        "id": "2KysMKKyuuqL"
      }
    },
    {
      "cell_type": "code",
      "source": [
        "print(a.sum(axis=0))\n",
        "print(a.sum(axis=1))"
      ],
      "metadata": {
        "colab": {
          "base_uri": "https://localhost:8080/"
        },
        "id": "UI7CUQBPuuw5",
        "outputId": "10137b0f-07e7-4b75-c5f0-a531687fc2b2"
      },
      "execution_count": 12,
      "outputs": [
        {
          "output_type": "stream",
          "name": "stdout",
          "text": [
            "[5 7 9]\n",
            "[ 6 15]\n"
          ]
        }
      ]
    },
    {
      "cell_type": "markdown",
      "source": [
        "vertical and horizontal stacking"
      ],
      "metadata": {
        "id": "_7HsbjsIz4Wl"
      }
    },
    {
      "cell_type": "code",
      "source": [
        "a=np.array([(1,2,3),(4,5,6)])\n",
        "b=np.array([(1,2,3),(4,5,6)])\n",
        "print(np.vstack((a,b)))\n",
        "print(np.hstack((a,b)))"
      ],
      "metadata": {
        "colab": {
          "base_uri": "https://localhost:8080/"
        },
        "id": "RtTQOAKTz75i",
        "outputId": "34dea210-641c-4a29-ba78-5f80fe60352a"
      },
      "execution_count": 13,
      "outputs": [
        {
          "output_type": "stream",
          "name": "stdout",
          "text": [
            "[[1 2 3]\n",
            " [4 5 6]\n",
            " [1 2 3]\n",
            " [4 5 6]]\n",
            "[[1 2 3 1 2 3]\n",
            " [4 5 6 4 5 6]]\n"
          ]
        }
      ]
    },
    {
      "cell_type": "markdown",
      "source": [
        "addition and basic operations"
      ],
      "metadata": {
        "id": "eTFaTOlF0arT"
      }
    },
    {
      "cell_type": "code",
      "source": [
        "a=np.array([(1,2,3),(4,5,6)])\n",
        "b=np.array([(1,2,3),(4,5,6)])\n",
        "print(a+b)"
      ],
      "metadata": {
        "colab": {
          "base_uri": "https://localhost:8080/"
        },
        "id": "ywuiclwQ0dVQ",
        "outputId": "6e12092b-b211-4842-addc-81b50cef278b"
      },
      "execution_count": 14,
      "outputs": [
        {
          "output_type": "stream",
          "name": "stdout",
          "text": [
            "[[ 2  4  6]\n",
            " [ 8 10 12]]\n"
          ]
        }
      ]
    },
    {
      "cell_type": "markdown",
      "source": [
        "to convert an np array into a single column"
      ],
      "metadata": {
        "id": "wsS69COS0n4j"
      }
    },
    {
      "cell_type": "code",
      "source": [
        "print(a.ravel())"
      ],
      "metadata": {
        "colab": {
          "base_uri": "https://localhost:8080/"
        },
        "id": "8TgBDq2b0s5i",
        "outputId": "a749b462-a914-4156-e444-37a7916323c0"
      },
      "execution_count": 15,
      "outputs": [
        {
          "output_type": "stream",
          "name": "stdout",
          "text": [
            "[1 2 3 4 5 6]\n"
          ]
        }
      ]
    }
  ]
}